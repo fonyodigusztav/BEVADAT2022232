{
  "cells": [
    {
      "cell_type": "code",
      "execution_count": 2,
      "metadata": {
        "id": "DKv-uJnsH5vZ"
      },
      "outputs": [],
      "source": [
        "# imports\n",
        "import matplotlib.pyplot as plt\n",
        "import seaborn as sns\n",
        "sns.set()\n",
        "import numpy as np\n",
        "from sklearn.cluster import KMeans\n",
        "from sklearn.metrics import accuracy_score\n",
        "from scipy.stats import mode\n",
        "from sklearn.metrics import confusion_matrix"
      ]
    },
    {
      "cell_type": "code",
      "execution_count": 3,
      "metadata": {
        "id": "Fjrmlkr1H5vc"
      },
      "outputs": [],
      "source": [
        "# Készíts egy függvényt ami betölti a digits datasetet \n",
        "# NOTE: használd az sklearn load_digits-et\n",
        "# Függvény neve: load_digits()\n",
        "# Függvény visszatérési értéke: a load_digits visszatérési értéke\n",
        "from sklearn.datasets import load_digits\n",
        "\n",
        "def load_digits():\n",
        "    digits = load_digits()\n",
        "    return digits\n"
      ]
    },
    {
      "cell_type": "code",
      "execution_count": 4,
      "metadata": {
        "colab": {
          "base_uri": "https://localhost:8080/",
          "height": 402
        },
        "id": "3HqH25y-H5vd",
        "outputId": "79672842-0dbc-40b0-ce23-1251598bc362"
      },
      "outputs": [
        {
          "output_type": "display_data",
          "data": {
            "text/plain": [
              "<Figure size 1000x500 with 10 Axes>"
            ],
            "image/png": "[encoded data removed]"
          },
          "metadata": {}
        }
      ],
      "source": [
        "# Vizsgáld meg a betöltött adatszetet (milyen elemek vannak benne stb.)\n",
        "from sklearn.datasets import load_digits\n",
        "import matplotlib.pyplot as plt\n",
        "\n",
        "digits = load_digits()\n",
        "fig, axes = plt.subplots(2, 5, figsize=(10, 5))\n",
        "axes = axes.ravel()\n",
        "\n",
        "for i in range(10):\n",
        "    axes[i].imshow(digits.images[i], cmap=plt.cm.gray_r)\n",
        "    axes[i].set_title(\"Digit: {}\".format(digits.target[i]))\n",
        "    axes[i].axis('off')\n",
        "\n",
        "plt.show()\n"
      ]
    },
    {
      "cell_type": "code",
      "execution_count": 5,
      "metadata": {
        "colab": {
          "base_uri": "https://localhost:8080/"
        },
        "id": "B2B4Jt9KH5vf",
        "outputId": "58bf33fa-be76-4dbf-8c8f-4ba354fd7b49"
      },
      "outputs": [
        {
          "output_type": "stream",
          "name": "stdout",
          "text": [
            "(1797, 64)\n",
            "[ 0.  0.  5. 13.  9.  1.  0.  0.  0.  0. 13. 15. 10. 15.  5.  0.  0.  3.\n",
            " 15.  2.  0. 11.  8.  0.  0.  4. 12.  0.  0.  8.  8.  0.  0.  5.  8.  0.\n",
            "  0.  9.  8.  0.  0.  4. 11.  0.  1. 12.  7.  0.  0.  2. 14.  5. 10. 12.\n",
            "  0.  0.  0.  0.  6. 13. 10.  0.  0.  0.]\n"
          ]
        }
      ],
      "source": [
        "# Vizsgáld meg a data paraméterét a digits dataset-nek (tartalom,shape...)\n",
        "from sklearn.datasets import load_digits\n",
        "\n",
        "digits = load_digits()\n",
        "print(digits.data.shape)\n",
        "print(digits.data[0])\n"
      ]
    },
    {
      "cell_type": "code",
      "execution_count": 9,
      "metadata": {
        "id": "k0GAWG5ZH5vg"
      },
      "outputs": [],
      "source": [
        "# Készíts egy függvényt ami létrehoz egy KMeans model-t 10 db cluster-el\n",
        "# NOTE: használd az sklearn Kmeans model-jét (random_state legyen 0)\n",
        "# Miután megvan a model predict-elj vele \n",
        "# NOTE: használd a fit_predict-et\n",
        "# Függvény neve: predict(n_clusters:int,random_state:int,digits)\n",
        "# Függvény visszatérési értéke: (model:sklearn.cluster.KMeans,clusters:np.ndarray)\n",
        "\n",
        "from sklearn.cluster import KMeans\n",
        "\n",
        "def predict(n_clusters:int,random_state:int,digits):\n",
        "    model = KMeans(n_clusters=n_clusters, random_state=random_state)\n",
        "    clusters = model.fit_predict(digits.data)\n",
        "    return model, clusters\n",
        "\n"
      ]
    },
    {
      "cell_type": "code",
      "execution_count": 11,
      "metadata": {
        "colab": {
          "base_uri": "https://localhost:8080/"
        },
        "id": "BYhRB2TSH5vh",
        "outputId": "edf57d67-df1a-4ef7-c139-7d9945524989"
      },
      "outputs": [
        {
          "output_type": "stream",
          "name": "stderr",
          "text": [
            "/usr/local/lib/python3.10/dist-packages/sklearn/cluster/_kmeans.py:870: FutureWarning: The default value of `n_init` will change from 10 to 'auto' in 1.4. Set the value of `n_init` explicitly to suppress the warning\n",
            "  warnings.warn(\n"
          ]
        },
        {
          "output_type": "stream",
          "name": "stdout",
          "text": [
            "(10, 64)\n"
          ]
        }
      ],
      "source": [
        "# Vizsgáld meg a shape-jét a kapott model cluster_centers_ paraméterének.\n",
        "model, clusters = predict(n_clusters=10, random_state=0, digits=digits)\n",
        "print(model.cluster_centers_.shape)\n",
        "\n"
      ]
    },
    {
      "cell_type": "code",
      "execution_count": 13,
      "metadata": {
        "colab": {
          "base_uri": "https://localhost:8080/",
          "height": 738
        },
        "id": "cp5uNkTgH5vh",
        "outputId": "f241a563-384f-4b5f-82f4-d968e5341bfe"
      },
      "outputs": [
        {
          "output_type": "stream",
          "name": "stderr",
          "text": [
            "/usr/local/lib/python3.10/dist-packages/sklearn/cluster/_kmeans.py:870: FutureWarning: The default value of `n_init` will change from 10 to 'auto' in 1.4. Set the value of `n_init` explicitly to suppress the warning\n",
            "  warnings.warn(\n"
          ]
        },
        {
          "output_type": "display_data",
          "data": {
            "text/plain": [
              "<Figure size 800x800 with 11 Axes>"
            ],
            "image/png": "[encoded data removed]"
          },
          "metadata": {}
        }
      ],
      "source": [
        "# Készíts egy plotot ami a cluster középpontokat megjeleníti\n",
        "import matplotlib.pyplot as plt\n",
        "\n",
        "# először betöltjük az adatokat\n",
        "from sklearn.datasets import load_digits\n",
        "digits = load_digits()\n",
        "\n",
        "# definiáljuk a függvényt, ami létrehozza és betanítja a modellt\n",
        "def predict(n_clusters:int,random_state:int,digits):\n",
        "    model = KMeans(n_clusters=n_clusters, random_state=random_state)\n",
        "    clusters = model.fit_predict(digits.data)\n",
        "    return model, clusters\n",
        "\n",
        "# hívjuk meg a függvényt a model és a cluster címkék előállításához\n",
        "model, clusters = predict(n_clusters=10, random_state=0, digits=digits)\n",
        "\n",
        "# kirajzoljuk a klaszterközéppontokat\n",
        "fig, ax = plt.subplots(figsize=(8, 8))\n",
        "for i in range(10):\n",
        "    subplot = fig.add_subplot(5, 2, i+1)\n",
        "    subplot.imshow(model.cluster_centers_[i].reshape(8, 8), cmap=plt.cm.gray_r, interpolation='nearest')\n",
        "    subplot.set_xticks([])\n",
        "    subplot.set_yticks([])\n",
        "    subplot.set_title('Cluster %d' % i)\n",
        "plt.show()\n",
        "\n"
      ]
    },
    {
      "cell_type": "code",
      "execution_count": 14,
      "metadata": {
        "id": "xONWfpOhH5vi"
      },
      "outputs": [],
      "source": [
        "# Készíts egy függvényt ami visszaadja a predictált cluster osztályokat\n",
        "# NOTE: amit a predict-ből visszakaptunk \"clusters\" azok lesznek a predictált cluster osztályok\n",
        "# HELP: amit a model predictált cluster osztályok még nem a labelek, hanem csak random cluster osztályok, \n",
        "#       Hogy label legyen belőlük:\n",
        "#       1. készíts egy result array-t ami ugyan annyi elemű mint a predictált cluster array\n",
        "#       2. menj végig mindegyik cluster osztályon (0,1....9)\n",
        "#       3. készíts egy maszkot ami az adott cluster osztályba tartozó elemeket adja vissza\n",
        "#       4. a digits.target-jét indexeld meg ezzel a maszkkal\n",
        "#       5. számold ki ennel a subarray-nek a móduszát\n",
        "#       6. a result array-ben tedd egyenlővé a módusszal azokat az indexeket ahol a maszk True \n",
        "#       Erre azért van szükség mert semmi nem biztosítja nekünk azt, hogy a \"0\" cluster a \"0\" label lesz, lehet, hogy az \"5\" label lenne az.\n",
        "\n",
        "# Függvény neve: get_labels(clusters:np.ndarray, digits)\n",
        "# Függvény visszatérési értéke: labels:np.ndarray\n",
        "import numpy as np\n",
        "\n",
        "def get_labels(clusters: np.ndarray, digits):\n",
        "    result = np.zeros_like(clusters)\n",
        "    for cluster in range(10):\n",
        "        mask = (clusters == cluster)\n",
        "        target = digits.target[mask]\n",
        "        mode = np.bincount(target).argmax()\n",
        "        result[mask] = mode\n",
        "    return result\n"
      ]
    },
    {
      "cell_type": "code",
      "execution_count": 15,
      "metadata": {
        "id": "ooJEJBOsH5vj"
      },
      "outputs": [],
      "source": [
        "# Készíts egy függvényt ami kiszámolja a model accuracy-jét\n",
        "# Függvény neve: calc_accuracy(target_labels:np.ndarray,predicted_labels:np.ndarray)\n",
        "# Függvény visszatérési értéke: accuracy:float\n",
        "# NOTE: Kerekítsd 2 tizedes jegyre az accuracy-t\n",
        "from sklearn.metrics import accuracy_score\n",
        "\n",
        "def calc_accuracy(target_labels:np.ndarray, predicted_labels:np.ndarray) -> float:\n",
        "    accuracy = accuracy_score(target_labels, predicted_labels)\n",
        "    return round(accuracy, 2)\n"
      ]
    },
    {
      "cell_type": "code",
      "execution_count": 16,
      "metadata": {
        "id": "POTV4kheH5vk"
      },
      "outputs": [],
      "source": [
        "# Készíts egy confusion mátrixot és plot-old seaborn segítségével\n",
        "import seaborn as sns\n",
        "from sklearn.metrics import confusion_matrix\n",
        "\n",
        "def plot_confusion_matrix(target_labels: np.ndarray, predicted_labels: np.ndarray):\n",
        "    # Kiszámoljuk a confusion mátrixot\n",
        "    cm = confusion_matrix(target_labels, predicted_labels)\n",
        "    \n",
        "    # Plot\n",
        "    sns.heatmap(cm, annot=True, cmap='Blues')\n"
      ]
    }
  ],
  "metadata": {
    "kernelspec": {
      "display_name": "Python 3",
      "language": "python",
      "name": "python3"
    },
    "language_info": {
      "codemirror_mode": {
        "name": "ipython",
        "version": 3
      },
      "file_extension": ".py",
      "mimetype": "text/x-python",
      "name": "python",
      "nbconvert_exporter": "python",
      "pygments_lexer": "ipython3",
      "version": "3.10.6"
    },
    "orig_nbformat": 4,
    "colab": {
      "provenance": []
    }
  },
  "nbformat": 4,
  "nbformat_minor": 0
}